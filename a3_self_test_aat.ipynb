{
 "cells": [
  {
   "cell_type": "code",
   "execution_count": 139,
   "metadata": {},
   "outputs": [
    {
     "data": {
      "text/plain": [
       "'import cv2\\nimport numpy as np\\nfrom skimage import io, color\\nimport matplotlib.pyplot as plt\\n%matplotlib inline\\n\\n\\ndef get_sift_feature(im):\\n    \"\"\"\\n    Extract the SIFT features from an input image.\\n\\n    Parameters:\\n        im (numpy.ndarray): An input image in float32 format with shape (H, W, 3).\\n\\n    Returns:\\n        A 1D array of the mean of the SIFT descriptors. If no descriptors are found,\\n        returns a zero array of length 128.\\n    \"\"\"\\n    gray_im = color.rgb2gray(im)\\n    sift = cv2.SIFT_create()\\n    _, descriptors = sift.detectAndCompute((gray_im * 255).astype(\"uint8\"), None)\\n    if descriptors is None:\\n        return np.zeros((128,))\\n    return np.mean(descriptors, axis=0)\\n\\n\\n\\nimg = cv2.imread(\"/Users/aatmiya/Desktop/HKU/Year 2 Sem 2/COMP3314/Assignments/A3/comp3314-assignment-3-image-classification/test_ims/d6bae8f.jpg\")\\nimg = cv2.cvtColor(img, cv2.COLOR_BGR2RGB)\\nplt.imshow(img)\\n\\n\\nimg1 = io.imread(\"/Users/aatmiya/Desktop/HKU/Year 2 Sem 2/COMP3314/Assignments/A3/comp3314-assignment-3-image-classification/test_ims/d6bb10e.jpg\")\\nio.imshow(img1)\\nio.show()\\nprint(get_sift_feature(img1))'"
      ]
     },
     "execution_count": 139,
     "metadata": {},
     "output_type": "execute_result"
    }
   ],
   "source": [
    "'''import cv2\n",
    "import numpy as np\n",
    "from skimage import io, color\n",
    "import matplotlib.pyplot as plt\n",
    "%matplotlib inline\n",
    "\n",
    "\n",
    "def get_sift_feature(im):\n",
    "    \"\"\"\n",
    "    Extract the SIFT features from an input image.\n",
    "\n",
    "    Parameters:\n",
    "        im (numpy.ndarray): An input image in float32 format with shape (H, W, 3).\n",
    "\n",
    "    Returns:\n",
    "        A 1D array of the mean of the SIFT descriptors. If no descriptors are found,\n",
    "        returns a zero array of length 128.\n",
    "    \"\"\"\n",
    "    gray_im = color.rgb2gray(im)\n",
    "    sift = cv2.SIFT_create()\n",
    "    _, descriptors = sift.detectAndCompute((gray_im * 255).astype(\"uint8\"), None)\n",
    "    if descriptors is None:\n",
    "        return np.zeros((128,))\n",
    "    return np.mean(descriptors, axis=0)\n",
    "\n",
    "\n",
    "\n",
    "img = cv2.imread(\"/Users/aatmiya/Desktop/HKU/Year 2 Sem 2/COMP3314/Assignments/A3/comp3314-assignment-3-image-classification/test_ims/d6bae8f.jpg\")\n",
    "img = cv2.cvtColor(img, cv2.COLOR_BGR2RGB)\n",
    "plt.imshow(img)\n",
    "\n",
    "\n",
    "img1 = io.imread(\"/Users/aatmiya/Desktop/HKU/Year 2 Sem 2/COMP3314/Assignments/A3/comp3314-assignment-3-image-classification/test_ims/d6bb10e.jpg\")\n",
    "io.imshow(img1)\n",
    "io.show()\n",
    "print(get_sift_feature(img1))'''"
   ]
  },
  {
   "cell_type": "code",
   "execution_count": 156,
   "metadata": {},
   "outputs": [],
   "source": [
    "import os\n",
    "import cv2\n",
    "import numpy as np\n",
    "import pandas as pd\n",
    "from skimage import io, color\n",
    "from skimage.transform import resize\n",
    "from skimage.feature import hog\n",
    "#from sklearn.feature_extraction import image\n",
    "#from sklearn.feature_extraction.image import extract_surf_features\n",
    "from sklearn.svm import SVC\n",
    "from sklearn.model_selection import GridSearchCV\n",
    "from sklearn.preprocessing import StandardScaler, MinMaxScaler\n",
    "from sklearn.decomposition import PCA\n",
    "import matplotlib.pyplot as plt\n",
    "from PIL import Image\n",
    "%matplotlib inline\n",
    "\n",
    "# Get the directory path\n",
    "directory_path = \"/Users/aatmiya/Desktop/HKU/Year 2 Sem 2/COMP3314/Assignments/A3/data/train_ims\"\n",
    "\n",
    "# List filenames in alphabetical order\n",
    "filenames = sorted(os.listdir(directory_path))"
   ]
  },
  {
   "cell_type": "code",
   "execution_count": 157,
   "metadata": {},
   "outputs": [],
   "source": [
    "def get_sift_feature(im):\n",
    "    gray_im = color.rgb2gray(im)\n",
    "    sift = cv2.SIFT_create()\n",
    "    _, descriptors = sift.detectAndCompute((gray_im * 255).astype(\"uint8\"), None)\n",
    "    if descriptors is None:\n",
    "        return np.zeros((128,))\n",
    "    return np.mean(descriptors, axis=0) \n",
    "\n",
    "def get_orb_feature(im):\n",
    "    gray_im = cv2.cvtColor(im, cv2.COLOR_BGR2GRAY)\n",
    "    orb = cv2.ORB_create()\n",
    "    _, descriptors = orb.detectAndCompute(gray_im, None)\n",
    "\n",
    "    if descriptors is None:\n",
    "        return np.zeros((32,))\n",
    "\n",
    "    # Calculate the mean of the ORB descriptors\n",
    "    mean_descriptor = np.mean(descriptors, axis=0)\n",
    "    return mean_descriptor\n",
    "\n",
    "def get_hog_feature(im):\n",
    "    gray_im = color.rgb2gray(im)\n",
    "    hog_features = hog(gray_im, orientations=4, pixels_per_cell=(4, 4), cells_per_block=(1, 1))\n",
    "    hog_features = hog_features / np.sum(np.abs(hog_features))\n",
    "    return(hog_features)"
   ]
  },
  {
   "cell_type": "code",
   "execution_count": 158,
   "metadata": {},
   "outputs": [],
   "source": [
    "initial_images = []\n",
    "train_df = pd.read_csv(\"/Users/aatmiya/Desktop/HKU/Year 2 Sem 2/COMP3314/Assignments/A3/data/train.csv\") #change path\n",
    "labels = train_df[\"label\"].to_numpy()[:2000] #sliced to 1000\n",
    "\n",
    "\n",
    "for i in range(2000): #only checking first 1000 images\n",
    "    image = io.imread(f\"{directory_path}/{filenames[i]}\")\n",
    "    initial_images.append(image)"
   ]
  },
  {
   "cell_type": "code",
   "execution_count": 159,
   "metadata": {},
   "outputs": [
    {
     "name": "stdout",
     "output_type": "stream",
     "text": [
      "[[0.42313663 0.61224488 0.25       ... 0.03910918 0.07108681 0.33677348]\n",
      " [0.02536232 0.09523809 0.37152779 ... 0.75031684 0.52312601 0.10139417]\n",
      " [0.22306239 0.30785848 0.13586956 ... 0.20962143 0.14645309 0.30087617]\n",
      " ...\n",
      " [0.28913044 0.19875776 0.30625    ... 0.121673   0.10909091 0.10190114]\n",
      " [0.40353261 0.33229814 0.15494792 ... 0.00760456 0.05980861 0.4904943 ]\n",
      " [0.19347825 0.17556936 0.30833334 ... 0.23929024 0.18373206 0.05272497]]\n",
      "Best parameters: {'C': 1, 'gamma': 0.5, 'kernel': 'rbf'}\n",
      "Best score: 0.2795\n"
     ]
    }
   ],
   "source": [
    "sift_features = []\n",
    "for image in initial_images:\n",
    "    sift_features.append(get_sift_feature(image)) #checking for sift feature instead\n",
    "\n",
    "sift_features = np.array(sift_features)\n",
    "labels = np.array(labels)\n",
    "\n",
    "scaler = MinMaxScaler(copy=False)\n",
    "scaler.fit(sift_features)\n",
    "sift_features_scaled = scaler.transform(sift_features)\n",
    "\n",
    "print(sift_features_scaled)\n",
    "\n",
    "pca = PCA(n_components=128, copy=False)\n",
    "pca.fit(sift_features_scaled)\n",
    "sift_features_reduced = pca.transform(sift_features_scaled)\n",
    "\n",
    "\n",
    "param_grid = {'C': [0.01, 0.1, 1, 5], 'kernel': ['linear', 'rbf'], 'gamma':[0.2, 0.4, 0.5, 0.6]}\n",
    "svc = SVC()\n",
    "clf = GridSearchCV(svc, param_grid, cv=4)\n",
    "\n",
    "# Train the SVM classifier\n",
    "clf.fit(sift_features_reduced, labels)\n",
    "\n",
    "# Print the best hyperparameters and score\n",
    "print(\"Best parameters:\", clf.best_params_)\n",
    "print(\"Best score:\", clf.best_score_)"
   ]
  },
  {
   "cell_type": "code",
   "execution_count": 161,
   "metadata": {},
   "outputs": [
    {
     "name": "stdout",
     "output_type": "stream",
     "text": [
      "Best parameters: {'C': 10, 'gamma': 0.2, 'kernel': 'rbf'}\n",
      "Best score: 0.38949999999999996\n"
     ]
    }
   ],
   "source": [
    "hog_features = []\n",
    "for image in initial_images:\n",
    "    hog_features.append(get_hog_feature(image))\n",
    "\n",
    "hog_features = np.array(hog_features)\n",
    "\n",
    "scaler.fit(hog_features)\n",
    "hog_features_scaled = scaler.transform(hog_features)\n",
    "\n",
    "param_grid = {'C': [0.1, 1, 10], 'kernel': ['linear', 'rbf'], 'gamma':[0.1, 0.2]}\n",
    "clf2 = GridSearchCV(svc, param_grid, cv=5)\n",
    "\n",
    "# Train the SVM classifier\n",
    "clf2.fit(hog_features_scaled, labels)\n",
    "\n",
    "# Print the best hyperparameters and score\n",
    "print(\"Best parameters:\", clf2.best_params_)\n",
    "print(\"Best score:\", clf2.best_score_)"
   ]
  },
  {
   "cell_type": "code",
   "execution_count": 168,
   "metadata": {},
   "outputs": [
    {
     "name": "stdout",
     "output_type": "stream",
     "text": [
      "Best parameters: {'C': 1, 'gamma': 0.1, 'kernel': 'rbf'}\n",
      "Best score: 0.42500000000000004\n"
     ]
    }
   ],
   "source": [
    "combined_features = np.concatenate((sift_features_scaled, hog_features_scaled), axis = 1)\n",
    "\n",
    "clf3 = GridSearchCV(svc, param_grid, cv=4)\n",
    "\n",
    "clf3.fit(combined_features, labels)\n",
    "print(\"Best parameters:\", clf3.best_params_)\n",
    "print(\"Best score:\", clf3.best_score_)"
   ]
  }
 ],
 "metadata": {
  "kernelspec": {
   "display_name": "Python 3",
   "language": "python",
   "name": "python3"
  },
  "language_info": {
   "codemirror_mode": {
    "name": "ipython",
    "version": 3
   },
   "file_extension": ".py",
   "mimetype": "text/x-python",
   "name": "python",
   "nbconvert_exporter": "python",
   "pygments_lexer": "ipython3",
   "version": "3.11.5"
  },
  "orig_nbformat": 4
 },
 "nbformat": 4,
 "nbformat_minor": 2
}
