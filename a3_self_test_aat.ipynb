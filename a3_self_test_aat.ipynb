{
 "cells": [
  {
   "cell_type": "code",
   "execution_count": 1,
   "metadata": {},
   "outputs": [
    {
     "data": {
      "text/plain": [
       "'import cv2\\nimport numpy as np\\nfrom skimage import io, color\\nimport matplotlib.pyplot as plt\\n%matplotlib inline\\n\\n\\ndef get_sift_feature(im):\\n    \"\"\"\\n    Extract the SIFT features from an input image.\\n\\n    Parameters:\\n        im (numpy.ndarray): An input image in float32 format with shape (H, W, 3).\\n\\n    Returns:\\n        A 1D array of the mean of the SIFT descriptors. If no descriptors are found,\\n        returns a zero array of length 128.\\n    \"\"\"\\n    gray_im = color.rgb2gray(im)\\n    sift = cv2.SIFT_create()\\n    _, descriptors = sift.detectAndCompute((gray_im * 255).astype(\"uint8\"), None)\\n    if descriptors is None:\\n        return np.zeros((128,))\\n    return np.mean(descriptors, axis=0)\\n\\n\\n\\nimg = cv2.imread(\"/Users/aatmiya/Desktop/HKU/Year 2 Sem 2/COMP3314/Assignments/A3/comp3314-assignment-3-image-classification/test_ims/d6bae8f.jpg\")\\nimg = cv2.cvtColor(img, cv2.COLOR_BGR2RGB)\\nplt.imshow(img)\\n\\n\\nimg1 = io.imread(\"/Users/aatmiya/Desktop/HKU/Year 2 Sem 2/COMP3314/Assignments/A3/comp3314-assignment-3-image-classification/test_ims/d6bb10e.jpg\")\\nio.imshow(img1)\\nio.show()\\nprint(get_sift_feature(img1))'"
      ]
     },
     "execution_count": 1,
     "metadata": {},
     "output_type": "execute_result"
    }
   ],
   "source": [
    "'''import cv2\n",
    "import numpy as np\n",
    "from skimage import io, color\n",
    "import matplotlib.pyplot as plt\n",
    "%matplotlib inline\n",
    "\n",
    "\n",
    "def get_sift_feature(im):\n",
    "    \"\"\"\n",
    "    Extract the SIFT features from an input image.\n",
    "\n",
    "    Parameters:\n",
    "        im (numpy.ndarray): An input image in float32 format with shape (H, W, 3).\n",
    "\n",
    "    Returns:\n",
    "        A 1D array of the mean of the SIFT descriptors. If no descriptors are found,\n",
    "        returns a zero array of length 128.\n",
    "    \"\"\"\n",
    "    gray_im = color.rgb2gray(im)\n",
    "    sift = cv2.SIFT_create()\n",
    "    _, descriptors = sift.detectAndCompute((gray_im * 255).astype(\"uint8\"), None)\n",
    "    if descriptors is None:\n",
    "        return np.zeros((128,))\n",
    "    return np.mean(descriptors, axis=0)\n",
    "\n",
    "\n",
    "\n",
    "img = cv2.imread(\"/Users/aatmiya/Desktop/HKU/Year 2 Sem 2/COMP3314/Assignments/A3/comp3314-assignment-3-image-classification/test_ims/d6bae8f.jpg\")\n",
    "img = cv2.cvtColor(img, cv2.COLOR_BGR2RGB)\n",
    "plt.imshow(img)\n",
    "\n",
    "\n",
    "img1 = io.imread(\"/Users/aatmiya/Desktop/HKU/Year 2 Sem 2/COMP3314/Assignments/A3/comp3314-assignment-3-image-classification/test_ims/d6bb10e.jpg\")\n",
    "io.imshow(img1)\n",
    "io.show()\n",
    "print(get_sift_feature(img1))'''"
   ]
  },
  {
   "cell_type": "code",
   "execution_count": 2,
   "metadata": {},
   "outputs": [],
   "source": [
    "import os\n",
    "import cv2\n",
    "import numpy as np\n",
    "import pandas as pd\n",
    "from skimage import io, color\n",
    "#from sklearn.feature_extraction import image\n",
    "#from sklearn.feature_extraction.image import extract_surf_features\n",
    "from sklearn.svm import SVC\n",
    "from sklearn.model_selection import GridSearchCV\n",
    "from sklearn.preprocessing import StandardScaler, MinMaxScaler\n",
    "import matplotlib.pyplot as plt\n",
    "from PIL import Image\n",
    "%matplotlib inline\n",
    "\n",
    "# Get the directory path\n",
    "directory_path = \"/Users/aatmiya/Desktop/HKU/Year 2 Sem 2/COMP3314/Assignments/A3/data/train_ims\"\n",
    "\n",
    "# List filenames in alphabetical order\n",
    "filenames = sorted(os.listdir(directory_path))"
   ]
  },
  {
   "cell_type": "code",
   "execution_count": 3,
   "metadata": {},
   "outputs": [],
   "source": [
    "def get_sift_feature(im):\n",
    "    gray_im = color.rgb2gray(im)\n",
    "    sift = cv2.SIFT_create()\n",
    "    _, descriptors = sift.detectAndCompute((gray_im * 255).astype(\"uint8\"), None)\n",
    "    if descriptors is None:\n",
    "        return np.zeros((128,))\n",
    "    return np.mean(descriptors, axis=0) \n",
    "\n",
    "def get_orb_feature(im):\n",
    "    gray_im = cv2.cvtColor(im, cv2.COLOR_BGR2GRAY)\n",
    "    orb = cv2.ORB_create()\n",
    "    _, descriptors = orb.detectAndCompute(gray_im, None)\n",
    "\n",
    "    if descriptors is None:\n",
    "        return np.zeros((32,))\n",
    "\n",
    "    # Calculate the mean of the ORB descriptors\n",
    "    mean_descriptor = np.mean(descriptors, axis=0)\n",
    "\n",
    "    return mean_descriptor\n",
    "\n",
    "def extract_histogram_features(image_path):\n",
    "  image = Image.open(image_path).convert('RGB')\n",
    "  histogram = image.histogram()\n",
    "  return np.array(histogram)"
   ]
  },
  {
   "cell_type": "code",
   "execution_count": 4,
   "metadata": {},
   "outputs": [],
   "source": [
    "initial_images = []\n",
    "train_df = pd.read_csv(\"/Users/aatmiya/Desktop/HKU/Year 2 Sem 2/COMP3314/Assignments/A3/data/train.csv\") #change path\n",
    "labels = train_df[\"label\"].to_numpy()[:1000] #sliced to 1000\n",
    "\n",
    "\n",
    "for i in range(1000): #only checking first 1000 images\n",
    "    image = io.imread(f\"{directory_path}/{filenames[i]}\")\n",
    "    initial_images.append(image)"
   ]
  },
  {
   "cell_type": "code",
   "execution_count": 5,
   "metadata": {},
   "outputs": [
    {
     "name": "stdout",
     "output_type": "stream",
     "text": [
      "[[0.42313663 0.62613428 0.28346458 ... 0.04448838 0.07108681 0.33677348]\n",
      " [0.02536232 0.09739867 0.42125987 ... 0.85351787 0.52312601 0.10139417]\n",
      " [0.22306239 0.31484257 0.15405683 ... 0.23845345 0.14645309 0.30087617]\n",
      " ...\n",
      " [0.25603865 0.34018956 0.3589239  ... 0.08746636 0.22753855 0.28136882]\n",
      " [0.23136647 0.22504536 0.15804275 ... 0.25786786 0.22693096 0.16657614]\n",
      " [0.21086956 0.19649122 0.25826773 ... 0.23298731 0.22838916 0.07503169]]\n",
      "Best parameters: {'C': 1, 'gamma': 0.2, 'kernel': 'rbf'}\n",
      "Best score: 0.285\n"
     ]
    }
   ],
   "source": [
    "sift_features = []\n",
    "for image in initial_images:\n",
    "    sift_features.append(get_sift_feature(image)) #checking for sift feature instead\n",
    "\n",
    "sift_features = np.array(sift_features)\n",
    "labels = np.array(labels)\n",
    "\n",
    "scaler = MinMaxScaler()\n",
    "scaler.fit(sift_features)\n",
    "sift_features_scaled = scaler.transform(sift_features)\n",
    "\n",
    "print(sift_features_scaled)\n",
    "\n",
    "param_grid = {'C': [0.001, 0.01, 0.1, 1, 10, 100], 'kernel': ['linear', 'rbf'], 'gamma':[0.1, 0.2, 0.4, 0.6, 0.8, 0.9]}\n",
    "svc = SVC()\n",
    "clf = GridSearchCV(svc, param_grid, cv=5)\n",
    "\n",
    "# Train the SVM classifier\n",
    "clf.fit(sift_features_scaled, labels)\n",
    "\n",
    "# Print the best hyperparameters and score\n",
    "print(\"Best parameters:\", clf.best_params_)\n",
    "print(\"Best score:\", clf.best_score_)"
   ]
  }
 ],
 "metadata": {
  "kernelspec": {
   "display_name": "Python 3",
   "language": "python",
   "name": "python3"
  },
  "language_info": {
   "codemirror_mode": {
    "name": "ipython",
    "version": 3
   },
   "file_extension": ".py",
   "mimetype": "text/x-python",
   "name": "python",
   "nbconvert_exporter": "python",
   "pygments_lexer": "ipython3",
   "version": "3.11.5"
  },
  "orig_nbformat": 4
 },
 "nbformat": 4,
 "nbformat_minor": 2
}
