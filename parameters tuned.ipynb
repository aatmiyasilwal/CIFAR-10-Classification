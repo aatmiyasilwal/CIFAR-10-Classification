{
 "cells": [
  {
   "cell_type": "code",
   "execution_count": 67,
   "metadata": {},
   "outputs": [],
   "source": [
    "import os\n",
    "import cv2\n",
    "import numpy as np\n",
    "import pandas as pd\n",
    "from joblib import dump, load\n",
    "from skimage import color\n",
    "import imageio.v2 as imageio\n",
    "from skimage.transform import resize\n",
    "from skimage.feature import hog\n",
    "from sklearn.pipeline import Pipeline\n",
    "from sklearn.svm import SVC\n",
    "from sklearn.metrics import confusion_matrix, ConfusionMatrixDisplay\n",
    "from sklearn.preprocessing import MinMaxScaler\n",
    "from sklearn.decomposition import PCA\n",
    "import matplotlib.pyplot as plt\n",
    "from imgaug import augmenters as iaa\n",
    "\n",
    "from PIL import Image\n",
    "%matplotlib inline\n",
    "\n",
    "# Get the directory path\n",
    "train_directory_path = \"/Users/aatmiya/Desktop/HKU/Year 2 Sem 2/COMP3314/Assignments/A3/data/train_ims\"\n",
    "test_directory_path = \"/Users/aatmiya/Desktop/HKU/Year 2 Sem 2/COMP3314/Assignments/A3/data/test_ims\"\n",
    "\n",
    "# List filenames in alphabetical order\n",
    "train_filenames = sorted(os.listdir(train_directory_path))\n",
    "test_filenames  = sorted(os.listdir(test_directory_path))\n"
   ]
  },
  {
   "cell_type": "code",
   "execution_count": 68,
   "metadata": {},
   "outputs": [],
   "source": [
    "aug = iaa.Sequential([\n",
    "    iaa.Fliplr(0.5),  # Flip horizontally with 50% probability\n",
    "    iaa.Flipud(0.5),  # Flip vertically with 50% probability\n",
    "    iaa.Affine(rotate=(-15, 15)),  # Random rotation\n",
    "    iaa.GaussianBlur(sigma=(0.0, 0.3)),  # Apply Gaussian blur with a sigma between 0 and 0.5\n",
    "    iaa.MultiplyBrightness((0.85, 1.25)),  # Randomly adjust brightness\n",
    "    iaa.MultiplySaturation((0.85, 1.25)),  # Randomly adjust saturation\n",
    "\n",
    "])"
   ]
  },
  {
   "cell_type": "code",
   "execution_count": 69,
   "metadata": {},
   "outputs": [],
   "source": [
    "x_train = []\n",
    "x_test = []\n",
    "\n",
    "\n",
    "train_df = pd.read_csv(\"/Users/aatmiya/Desktop/HKU/Year 2 Sem 2/COMP3314/Assignments/A3/data/train.csv\") #change path\n",
    "test_df = pd.read_csv(\"/Users/aatmiya/Desktop/HKU/Year 2 Sem 2/COMP3314/Assignments/A3/data/test.csv\") #change path\n",
    "\n",
    "for i in range(50000): #only checking first 1000 images\n",
    "    image = imageio.imread(f\"{train_directory_path}/{train_filenames[i]}\")\n",
    "    x_train.append(image)\n",
    "\n",
    "    '''if i < 40000:\n",
    "        x_train.append(image)\n",
    "    else:\n",
    "        x_test.append(image)\n",
    "    '''\n",
    "augmented_images = aug(images=x_train[10000:17500])\n",
    "\n",
    "'''\n",
    "for image in x_train[30000:40000]:\n",
    "    augmented_images = augmentations(images=[image])\n",
    "    augmented_x_train = np.concatenate((augmented_x_train, augmented_images), axis=0)\n",
    "'''\n",
    "\n",
    "for j in range(10000): #only checking first 500 images\n",
    "    image = imageio.imread(f\"{test_directory_path}/{test_filenames[j]}\")\n",
    "    x_test.append(image)\n",
    "\n",
    "'''\n",
    "y_train = np.concatenate((np.array(train_df[\"label\"].to_numpy()[:40000]), np.array(train_df[\"label\"].to_numpy()[30000:40000])))\n",
    "y_test = np.array(train_df[\"label\"].to_numpy()[-10000:])\n",
    "\n",
    "x_train = np.concatenate((np.array(x_train), augmented_x_train))\n",
    "x_test = np.array(x_test)\n",
    "'''\n",
    "\n",
    "x_train = np.array(x_train)\n",
    "x_train = np.concatenate((x_train, augmented_images))\n",
    "\n",
    "x_test = np.array(x_test)\n",
    "\n",
    "y_train = np.array(train_df[\"label\"].to_numpy())\n",
    "y_train = np.concatenate((y_train, y_train[10000:17500]))\n",
    "\n",
    "y_test = np.array(test_df[\"label\"].to_numpy())\n",
    "\n",
    "assert x_train.shape == (57500, 32, 32, 3)\n",
    "assert x_test.shape == (10000, 32, 32, 3)\n",
    "\n",
    "y_train = y_train.reshape(-1)\n",
    "y_test = y_test.reshape(-1)\n",
    "\n",
    "assert y_train.shape == (57500,)\n",
    "assert y_test.shape == (10000,)"
   ]
  },
  {
   "cell_type": "code",
   "execution_count": 70,
   "metadata": {},
   "outputs": [],
   "source": [
    "def get_sift_feature(im):\n",
    "    gray_im = cv2.cvtColor(im, cv2.COLOR_RGB2GRAY) / 255\n",
    "    sift = cv2.SIFT_create()\n",
    "    _, descriptors = sift.detectAndCompute((gray_im * 255).astype(\"uint8\"), None)\n",
    "    if descriptors is None:\n",
    "        return np.zeros((128,))\n",
    "    return np.mean(descriptors, axis=0) \n",
    "\n",
    "def get_hog_feature(im):\n",
    "    gray_im = cv2.cvtColor(im, cv2.COLOR_RGB2GRAY) / 255\n",
    "    hog_features = hog(gray_im, orientations=9, pixels_per_cell=(8, 8), cells_per_block=(2, 2))\n",
    "\n",
    "    hsv_image = cv2.cvtColor(im, cv2.COLOR_BGR2HSV)\n",
    "    \n",
    "    hist_features = []\n",
    "    for channel in cv2.split(hsv_image):\n",
    "        hist_features.append(cv2.calcHist([channel], [0], None, [8], [0, 256]))\n",
    "\n",
    "    hist_features = np.concatenate(hist_features).flatten() / (image.shape[0] * image.shape[1])\n",
    "    merged_features = np.concatenate((hog_features, hist_features))\n",
    "    return(merged_features)\n",
    "\n",
    "\n",
    "def sift_hog_combined_features(im):\n",
    "    hog_features = get_hog_feature(im)\n",
    "    sift_features = get_sift_feature(im)\n",
    "    combined_features = np.concatenate((hog_features, sift_features))\n",
    "    return combined_features"
   ]
  },
  {
   "cell_type": "code",
   "execution_count": 71,
   "metadata": {},
   "outputs": [
    {
     "data": {
      "text/plain": [
       "'\\nsift_features_train = []\\nsift_features_test = []\\n\\nfor image1 in x_train:\\n    sift_features_train.append(get_sift_feature(image1)) #checking for sift feature \\n\\nfor image2 in x_test:\\n    sift_features_test.append(get_sift_feature(image2)) #checking for sift feature \\n\\nsift_features_train = np.array(sift_features_train)\\nsift_features_test = np.array(sift_features_test)\\n'"
      ]
     },
     "execution_count": 71,
     "metadata": {},
     "output_type": "execute_result"
    }
   ],
   "source": [
    "'''\n",
    "sift_features_train = []\n",
    "sift_features_test = []\n",
    "\n",
    "for image1 in x_train:\n",
    "    sift_features_train.append(get_sift_feature(image1)) #checking for sift feature \n",
    "\n",
    "for image2 in x_test:\n",
    "    sift_features_test.append(get_sift_feature(image2)) #checking for sift feature \n",
    "\n",
    "sift_features_train = np.array(sift_features_train)\n",
    "sift_features_test = np.array(sift_features_test)\n",
    "'''\n"
   ]
  },
  {
   "cell_type": "code",
   "execution_count": 72,
   "metadata": {},
   "outputs": [],
   "source": [
    "sift_hog_features_train = []\n",
    "sift_hog_features_test = []\n",
    "\n",
    "for image1 in x_train:\n",
    "    sift_hog_features_train.append(sift_hog_combined_features(image1)) #checking for sift feature \n",
    "\n",
    "for image2 in x_test:\n",
    "    sift_hog_features_test.append(sift_hog_combined_features(image2)) #checking for sift feature \n",
    "\n",
    "sift_hog_features_train = np.array(sift_hog_features_train)\n",
    "sift_hog_features_test = np.array(sift_hog_features_test)"
   ]
  },
  {
   "cell_type": "code",
   "execution_count": 73,
   "metadata": {},
   "outputs": [
    {
     "data": {
      "text/plain": [
       "'\\nhog_features_train = []\\nhog_features_test = []\\n\\nfor image3 in x_train:\\n    hog_features_train.append(get_hog_feature(image3)) #checking for hog feature \\n\\nfor image4 in x_test:\\n    hog_features_test.append(get_hog_feature(image4)) #checking for hog feature \\n\\nhog_features_train = np.array(hog_features_train)\\nhog_features_test = np.array(hog_features_test)\\n'"
      ]
     },
     "execution_count": 73,
     "metadata": {},
     "output_type": "execute_result"
    }
   ],
   "source": [
    "'''\n",
    "hog_features_train = []\n",
    "hog_features_test = []\n",
    "\n",
    "for image3 in x_train:\n",
    "    hog_features_train.append(get_hog_feature(image3)) #checking for hog feature \n",
    "\n",
    "for image4 in x_test:\n",
    "    hog_features_test.append(get_hog_feature(image4)) #checking for hog feature \n",
    "\n",
    "hog_features_train = np.array(hog_features_train)\n",
    "hog_features_test = np.array(hog_features_test)\n",
    "'''"
   ]
  },
  {
   "cell_type": "code",
   "execution_count": 74,
   "metadata": {},
   "outputs": [
    {
     "data": {
      "text/plain": [
       "'\\npca1 = PCA(0.9)\\npca1.fit(hog_features_train)\\nprint(pca1.n_components_)\\n'"
      ]
     },
     "execution_count": 74,
     "metadata": {},
     "output_type": "execute_result"
    }
   ],
   "source": [
    "'''\n",
    "pca1 = PCA(0.9)\n",
    "pca1.fit(hog_features_train)\n",
    "print(pca1.n_components_)\n",
    "'''"
   ]
  },
  {
   "cell_type": "code",
   "execution_count": 75,
   "metadata": {},
   "outputs": [
    {
     "name": "stdout",
     "output_type": "stream",
     "text": [
      "90\n"
     ]
    }
   ],
   "source": [
    "pca2 = PCA(0.98)\n",
    "pca2.fit(sift_hog_features_train)\n",
    "print(pca2.n_components_)\n"
   ]
  },
  {
   "cell_type": "code",
   "execution_count": 76,
   "metadata": {},
   "outputs": [],
   "source": [
    "pipe = Pipeline([('StandardScaler', MinMaxScaler()), ('pca', PCA(0.99)), ('rbfsvc', SVC(kernel='rbf', C=2, gamma=0.185, cache_size=10000))])\n",
    "\n",
    "#pipe = Pipeline([('StandardScaler', MinMaxScaler()), ('pca', PCA(0.95)), ('rbfsvc', SVC(kernel='rbf', C=1.8, gamma = 0.2, cache_size=10000))]) #6577 N SIFT\n",
    "#pipe = Pipeline([('StandardScaler', MinMaxScaler()), ('pca', PCA(0.95)), ('svc', SVC(kernel='rbf', C=2, gamma=0.22, cache_size=10000))]) #0.6571 N SIFT\n",
    "#pipe = Pipeline([('StandardScaler', MinMaxScaler()), ('pca', PCA(0.95)), ('svc', SVC(kernel='rbf', C=2, gamma=0.15, cache_size=10000))]) #0.6538 N SIFT\n",
    "#pipe = Pipeline([('StandardScaler', MinMaxScaler()), ('pca', PCA(0.95)), ('rbfsvc', SVC(kernel='rbf', C=2, gamma = 0.2, cache_size=10000))]) #6579 N SIFT\n",
    "\n",
    "#pipe = Pipeline([('StandardScaler', MinMaxScaler()), ('pca', PCA(0.98)), ('rbfsvc', SVC(kernel='rbf', C=10, gamma = 0.25, cache_size=10000))]) #.6562 Y SIFT\n",
    "#pipe = Pipeline([('StandardScaler', MinMaxScaler()), ('pca', PCA(0.98)), ('rbfsvc', SVC(kernel='rbf', C=7, gamma = 0.25, cache_size=10000))]) #.6562 Y SIFT\n",
    "#pipe = Pipeline([('StandardScaler', MinMaxScaler()), ('pca', PCA(0.98)), ('rbfsvc', SVC(kernel='rbf', C=1.2, gamma = 0.2, cache_size=10000))]) #6629 Y SIFT\n",
    "#pipe = Pipeline([('StandardScaler', MinMaxScaler()), ('pca', PCA(0.98)), ('rbfsvc', SVC(kernel='rbf', C=0.8, gamma = 0.2, cache_size=10000))]) #6508 Y SIFT\n",
    "#pipe = Pipeline([('StandardScaler', MinMaxScaler()), ('pca', PCA(0.98)), ('rbfsvc', SVC(kernel='rbf', C=1.2,cache_size=10000))]) #0.6592 Y SIFT\n",
    "#pipe = Pipeline([('StandardScaler', MinMaxScaler()), ('pca', PCA(0.98)), ('rbfsvc', SVC(kernel='rbf', C=2,cache_size=10000))]) #0.6655 Y SIFT\n",
    "#pipe = Pipeline([('StandardScaler', MinMaxScaler()), ('pca', PCA(0.98)), ('rbfsvc', SVC(kernel='rbf', C=3,cache_size=10000))]) #0.6655 Y SIFT\n",
    "#pipe = Pipeline([('StandardScaler', MinMaxScaler()), ('pca', PCA(0.98)), ('rbfsvc', SVC(kernel='rbf', C=2, gamma = 0.22, cache_size=10000))]) #0.6626 Y SIFT\n",
    "#pipe = Pipeline([('StandardScaler', MinMaxScaler()), ('pca', PCA(0.98)), ('rbfsvc', SVC(kernel='rbf', C=2, gamma = 0.22, cache_size=10000))]) #0.6658 Y SIFT Y AUG5K\n",
    "#pipe = Pipeline([('StandardScaler', MinMaxScaler()), ('pca', PCA(0.98)), ('rbfsvc', SVC(kernel='rbf', C=2, cache_size=10000))]) #0.6686 Y SIFT Y AUG10K\n",
    "\n",
    "\n",
    "#pipe.fit(hog_features_train, y_train)\n",
    "pipe.fit(sift_hog_features_train, y_train)"
   ]
  },
  {
   "cell_type": "code",
   "execution_count": null,
   "metadata": {},
   "outputs": [],
   "source": [
    "dump(pipe, 'pipe.joblib')\n",
    "pipe = load('pipe.joblib')\n",
    "\n",
    "'''\n",
    "print(pipe.score(hog_features_test, y_test))\n",
    "y_pred = pipe.predict(hog_features_test)\n",
    "'''\n",
    "\n",
    "#print(pipe.score(sift_hog_features_test, y_test))\n",
    "y_pred = pipe.predict(sift_hog_features_test)\n",
    "\n",
    "\n",
    "test_df[\"label\"] = y_pred\n",
    "test_df.to_csv(\"/Users/aatmiya/Desktop/HKU/Year 2 Sem 2/COMP3314/Assignments/A3/Attempt44_hogNchistNsiftNaug15-225k_c2G185_pca099.csv\", index=False)\n"
   ]
  },
  {
   "cell_type": "code",
   "execution_count": null,
   "metadata": {},
   "outputs": [
    {
     "data": {
      "image/png": "[encoded data removed]",
      "text/plain": [
       "<Figure size 640x480 with 2 Axes>"
      ]
     },
     "metadata": {},
     "output_type": "display_data"
    }
   ],
   "source": [
    "color = 'white'\n",
    "cm = confusion_matrix(y_test, y_pred)\n",
    "disp = ConfusionMatrixDisplay(cm)\n",
    "disp.plot()\n",
    "plt.xticks(rotation=45, ha='right')\n",
    "plt.show()"
   ]
  }
 ],
 "metadata": {
  "kernelspec": {
   "display_name": "Python 3",
   "language": "python",
   "name": "python3"
  },
  "language_info": {
   "codemirror_mode": {
    "name": "ipython",
    "version": 3
   },
   "file_extension": ".py",
   "mimetype": "text/x-python",
   "name": "python",
   "nbconvert_exporter": "python",
   "pygments_lexer": "ipython3",
   "version": "3.11.5"
  },
  "orig_nbformat": 4
 },
 "nbformat": 4,
 "nbformat_minor": 2
}
